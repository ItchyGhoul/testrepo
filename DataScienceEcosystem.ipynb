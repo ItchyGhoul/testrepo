{
 "cells": [
  {
   "cell_type": "markdown",
   "id": "4c820768-7c27-4c52-be11-aaa46c3e7607",
   "metadata": {
    "tags": []
   },
   "source": [
    "Data Science Tools and Ecosystem"
   ]
  },
  {
   "cell_type": "markdown",
   "id": "ff02656a-7151-410d-8c43-dffd0dc929cb",
   "metadata": {},
   "source": [
    "In this notebook, Data Science Tools and Ecosystem are summarized."
   ]
  },
  {
   "cell_type": "markdown",
   "id": "2a8711b8-4c09-4f9b-8fce-31a888b59f1a",
   "metadata": {},
   "source": [
    "Some of the popular languages that Data Scientists use are:\n",
    "1. Python\n",
    "2. Ruby\n",
    "3. Java\n",
    "4. C++"
   ]
  },
  {
   "cell_type": "markdown",
   "id": "0e8873a4-3e7b-45bc-ac4a-fda43ca5617d",
   "metadata": {},
   "source": [
    "Some of the commonly used libraries used by Data Scientists include:\n",
    "1. Numpy\n",
    "2. Pandas\n",
    "3. Matplotlib\n",
    "4. ggplot2"
   ]
  },
  {
   "cell_type": "markdown",
   "id": "fe3963cf-a161-41a9-b702-622614347ef1",
   "metadata": {
    "tags": []
   },
   "source": [
    "|Data Science Tools|\n",
    "|------------------|\n",
    "|RStudio|\n",
    "|Apache Spark|\n",
    "|TensorFlow|\n"
   ]
  },
  {
   "cell_type": "markdown",
   "id": "8878d5d8-94fb-4596-a0a9-e1d510313893",
   "metadata": {},
   "source": [
    "### Below are a few examples of evaluating arithmetic expressions in Python :\n"
   ]
  },
  {
   "cell_type": "code",
   "execution_count": 2,
   "id": "b725f321-2a60-4a38-81c0-46aae7a62cd1",
   "metadata": {
    "tags": []
   },
   "outputs": [
    {
     "data": {
      "text/plain": [
       "17"
      ]
     },
     "execution_count": 2,
     "metadata": {},
     "output_type": "execute_result"
    }
   ],
   "source": [
    "#This a simple arithmetic expression to mutiply then add integers\n",
    "(3*4)+5"
   ]
  },
  {
   "cell_type": "code",
   "execution_count": 3,
   "id": "fcb9d8a2-f1dd-49db-8ec8-0d44f099aa7f",
   "metadata": {
    "tags": []
   },
   "outputs": [
    {
     "data": {
      "text/plain": [
       "3.3333333333333335"
      ]
     },
     "execution_count": 3,
     "metadata": {},
     "output_type": "execute_result"
    }
   ],
   "source": [
    "#This will convert 200 minutes to hours by diving by 60\n",
    "200/60"
   ]
  },
  {
   "cell_type": "markdown",
   "id": "08c73c40-b160-452d-9389-f58f7809c557",
   "metadata": {},
   "source": [
    "**Objectives:**\n",
    "- List popular languages of Data Science.\n",
    "- List commonly used libraries of Data Science.\n",
    "- Create a table of Data Science tools.\n",
    "- Arithmetic expressions using python."
   ]
  },
  {
   "cell_type": "markdown",
   "id": "9c6fcca1-4e4e-4f7a-a585-251a44e7dd85",
   "metadata": {},
   "source": [
    "## Author:\n",
    "Rishav"
   ]
  }
 ],
 "metadata": {
  "kernelspec": {
   "display_name": "Python",
   "language": "python",
   "name": "conda-env-python-py"
  },
  "language_info": {
   "codemirror_mode": {
    "name": "ipython",
    "version": 3
   },
   "file_extension": ".py",
   "mimetype": "text/x-python",
   "name": "python",
   "nbconvert_exporter": "python",
   "pygments_lexer": "ipython3",
   "version": "3.7.12"
  }
 },
 "nbformat": 4,
 "nbformat_minor": 5
}
